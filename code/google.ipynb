{
 "cells": [
  {
   "cell_type": "code",
   "execution_count": 14,
   "metadata": {},
   "outputs": [],
   "source": [
    "from selenium import webdriver\n",
    "from selenium.webdriver.common.by import By\n",
    "from selenium.webdriver.common.keys import Keys\n",
    "import pandas as pd \n",
    "import time"
   ]
  },
  {
   "cell_type": "code",
   "execution_count": 49,
   "metadata": {},
   "outputs": [],
   "source": [
    "df = pd.read_csv(\"mit_extracted_affiliation.csv\")"
   ]
  },
  {
   "cell_type": "code",
   "execution_count": 50,
   "metadata": {},
   "outputs": [
    {
     "data": {
      "text/html": [
       "<div>\n",
       "<style scoped>\n",
       "    .dataframe tbody tr th:only-of-type {\n",
       "        vertical-align: middle;\n",
       "    }\n",
       "\n",
       "    .dataframe tbody tr th {\n",
       "        vertical-align: top;\n",
       "    }\n",
       "\n",
       "    .dataframe thead th {\n",
       "        text-align: right;\n",
       "    }\n",
       "</style>\n",
       "<table border=\"1\" class=\"dataframe\">\n",
       "  <thead>\n",
       "    <tr style=\"text-align: right;\">\n",
       "      <th></th>\n",
       "      <th>w</th>\n",
       "      <th>o</th>\n",
       "      <th>r</th>\n",
       "      <th>d</th>\n",
       "    </tr>\n",
       "  </thead>\n",
       "  <tbody>\n",
       "    <tr>\n",
       "      <th>0</th>\n",
       "      <td>plasma phys &amp; fus center</td>\n",
       "      <td>NaN</td>\n",
       "      <td>NaN</td>\n",
       "      <td>NaN</td>\n",
       "    </tr>\n",
       "    <tr>\n",
       "      <th>1</th>\n",
       "      <td>finance group</td>\n",
       "      <td>NaN</td>\n",
       "      <td>NaN</td>\n",
       "      <td>NaN</td>\n",
       "    </tr>\n",
       "    <tr>\n",
       "      <th>2</th>\n",
       "      <td>department phys med &amp; rehabil</td>\n",
       "      <td>NaN</td>\n",
       "      <td>NaN</td>\n",
       "      <td>NaN</td>\n",
       "    </tr>\n",
       "    <tr>\n",
       "      <th>3</th>\n",
       "      <td>institute med engn &amp; sci</td>\n",
       "      <td>NaN</td>\n",
       "      <td>NaN</td>\n",
       "      <td>NaN</td>\n",
       "    </tr>\n",
       "    <tr>\n",
       "      <th>4</th>\n",
       "      <td>department biol engn &amp; elect engn &amp; comp sci</td>\n",
       "      <td>NaN</td>\n",
       "      <td>NaN</td>\n",
       "      <td>NaN</td>\n",
       "    </tr>\n",
       "  </tbody>\n",
       "</table>\n",
       "</div>"
      ],
      "text/plain": [
       "                                              w   o   r   d\n",
       "0                      plasma phys & fus center NaN NaN NaN\n",
       "1                                 finance group NaN NaN NaN\n",
       "2                 department phys med & rehabil NaN NaN NaN\n",
       "3                      institute med engn & sci NaN NaN NaN\n",
       "4  department biol engn & elect engn & comp sci NaN NaN NaN"
      ]
     },
     "execution_count": 50,
     "metadata": {},
     "output_type": "execute_result"
    }
   ],
   "source": [
    "df.head()"
   ]
  },
  {
   "cell_type": "code",
   "execution_count": 51,
   "metadata": {},
   "outputs": [],
   "source": [
    "def search(query,driver):\n",
    "  \n",
    "    # Navigate to the application home page\n",
    "    driver.get(\"http://www.google.com\")\n",
    "    # get the search textbox\n",
    "    elem = driver.find_element_by_name(\"q\")\n",
    "    elem.send_keys(query)\n",
    "    elem.send_keys(Keys.RETURN)\n",
    "    time.sleep(5)\n",
    "    span_texts = [item.text for item in driver.find_elements_by_xpath('//h3')]\n",
    "    time.sleep(5)\n",
    "    \n",
    "    \n",
    "    return span_texts"
   ]
  },
  {
   "cell_type": "code",
   "execution_count": 54,
   "metadata": {},
   "outputs": [
    {
     "name": "stdout",
     "output_type": "stream",
     "text": [
      "254.22179262240726\n"
     ]
    }
   ],
   "source": [
    "one = []\n",
    "two = []\n",
    "three = []\n",
    "start = time.time()\n",
    "for index in range(len(df)):\n",
    "    # create a new Firefox session\n",
    "    driver = webdriver.Firefox()  \n",
    "    #print(key)\n",
    "    key = str(df['w'][index]) + ' mit'\n",
    " \n",
    "    j = search(key,driver)\n",
    "    #get the top three results\n",
    "    for i in range(len(j)):\n",
    "        if i<3:\n",
    "            if i == 0:\n",
    "                one.append(j[i])\n",
    "            if i == 1:\n",
    "                two.append(j[i])\n",
    "            if i == 2:\n",
    "                three.append(j[i])\n",
    "    driver.close()\n",
    "end= time.time()\n",
    "print((end-start)/60)"
   ]
  },
  {
   "cell_type": "code",
   "execution_count": 56,
   "metadata": {},
   "outputs": [
    {
     "name": "stdout",
     "output_type": "stream",
     "text": [
      "900\n"
     ]
    }
   ],
   "source": [
    "\n",
    "print(len(one))"
   ]
  },
  {
   "cell_type": "code",
   "execution_count": 57,
   "metadata": {},
   "outputs": [],
   "source": [
    "new = pd.DataFrame({'o': one,  'r': two,  'd': three })"
   ]
  },
  {
   "cell_type": "code",
   "execution_count": 58,
   "metadata": {},
   "outputs": [
    {
     "name": "stderr",
     "output_type": "stream",
     "text": [
      "/opt/anaconda3/lib/python3.7/site-packages/ipykernel_launcher.py:3: SettingWithCopyWarning: \n",
      "A value is trying to be set on a copy of a slice from a DataFrame\n",
      "\n",
      "See the caveats in the documentation: https://pandas.pydata.org/pandas-docs/stable/user_guide/indexing.html#returning-a-view-versus-a-copy\n",
      "  This is separate from the ipykernel package so we can avoid doing imports until\n",
      "/opt/anaconda3/lib/python3.7/site-packages/pandas/core/indexing.py:670: SettingWithCopyWarning: \n",
      "A value is trying to be set on a copy of a slice from a DataFrame\n",
      "\n",
      "See the caveats in the documentation: https://pandas.pydata.org/pandas-docs/stable/user_guide/indexing.html#returning-a-view-versus-a-copy\n",
      "  iloc._setitem_with_indexer(indexer, value)\n",
      "/opt/anaconda3/lib/python3.7/site-packages/ipykernel_launcher.py:4: SettingWithCopyWarning: \n",
      "A value is trying to be set on a copy of a slice from a DataFrame\n",
      "\n",
      "See the caveats in the documentation: https://pandas.pydata.org/pandas-docs/stable/user_guide/indexing.html#returning-a-view-versus-a-copy\n",
      "  after removing the cwd from sys.path.\n",
      "/opt/anaconda3/lib/python3.7/site-packages/ipykernel_launcher.py:5: SettingWithCopyWarning: \n",
      "A value is trying to be set on a copy of a slice from a DataFrame\n",
      "\n",
      "See the caveats in the documentation: https://pandas.pydata.org/pandas-docs/stable/user_guide/indexing.html#returning-a-view-versus-a-copy\n",
      "  \"\"\"\n"
     ]
    }
   ],
   "source": [
    "#c = driver.find_elements_by_xpath('//h3').text()\n",
    "#assigne the lists into the dataframe\n",
    "for i in range(len(one)):\n",
    "    df['o'][i]=one[i]\n",
    "    df['r'][i]=two[i]\n",
    "    df['d'][i]=three[i]"
   ]
  },
  {
   "cell_type": "code",
   "execution_count": null,
   "metadata": {},
   "outputs": [],
   "source": [
    "for i in range(len(span_texts)):\n",
    "    if i <3:\n",
    "        print(span_texts[i])"
   ]
  },
  {
   "cell_type": "code",
   "execution_count": 59,
   "metadata": {},
   "outputs": [
    {
     "data": {
      "text/html": [
       "<div>\n",
       "<style scoped>\n",
       "    .dataframe tbody tr th:only-of-type {\n",
       "        vertical-align: middle;\n",
       "    }\n",
       "\n",
       "    .dataframe tbody tr th {\n",
       "        vertical-align: top;\n",
       "    }\n",
       "\n",
       "    .dataframe thead th {\n",
       "        text-align: right;\n",
       "    }\n",
       "</style>\n",
       "<table border=\"1\" class=\"dataframe\">\n",
       "  <thead>\n",
       "    <tr style=\"text-align: right;\">\n",
       "      <th></th>\n",
       "      <th>w</th>\n",
       "      <th>o</th>\n",
       "      <th>r</th>\n",
       "      <th>d</th>\n",
       "    </tr>\n",
       "  </thead>\n",
       "  <tbody>\n",
       "    <tr>\n",
       "      <th>0</th>\n",
       "      <td>plasma phys &amp; fus center</td>\n",
       "      <td>MIT Plasma Science and Fusion Center (PSFC)</td>\n",
       "      <td>Research | MIT Plasma Science and Fusion Center</td>\n",
       "      <td>Martin Greenwald - PSFC - MIT</td>\n",
       "    </tr>\n",
       "    <tr>\n",
       "      <th>1</th>\n",
       "      <td>finance group</td>\n",
       "      <td>Finance Faculty - MIT Sloan</td>\n",
       "      <td>About Us</td>\n",
       "      <td>Research</td>\n",
       "    </tr>\n",
       "    <tr>\n",
       "      <th>2</th>\n",
       "      <td>department phys med &amp; rehabil</td>\n",
       "      <td>مقالات أكاديمية حول department phys med &amp; reha...</td>\n",
       "      <td>Physical Medicine &amp; Rehabilitation | MIT Techn...</td>\n",
       "      <td>Physical Medicine and Rehabilitation Division ...</td>\n",
       "    </tr>\n",
       "    <tr>\n",
       "      <th>3</th>\n",
       "      <td>institute med engn &amp; sci</td>\n",
       "      <td>Institute for Medical Engineering &amp; Science - MIT</td>\n",
       "      <td>Institute for Medical Engineering and Science ...</td>\n",
       "      <td>Faculty - Institute for Medical Engineering &amp; ...</td>\n",
       "    </tr>\n",
       "    <tr>\n",
       "      <th>4</th>\n",
       "      <td>department biol engn &amp; elect engn &amp; comp sci</td>\n",
       "      <td>Department of Electrical Engineering and Compu...</td>\n",
       "      <td>MIT EECS: Homepage</td>\n",
       "      <td>Electrical Engineering and Computer Science | ...</td>\n",
       "    </tr>\n",
       "  </tbody>\n",
       "</table>\n",
       "</div>"
      ],
      "text/plain": [
       "                                              w  \\\n",
       "0                      plasma phys & fus center   \n",
       "1                                 finance group   \n",
       "2                 department phys med & rehabil   \n",
       "3                      institute med engn & sci   \n",
       "4  department biol engn & elect engn & comp sci   \n",
       "\n",
       "                                                   o  \\\n",
       "0        MIT Plasma Science and Fusion Center (PSFC)   \n",
       "1                        Finance Faculty - MIT Sloan   \n",
       "2  مقالات أكاديمية حول department phys med & reha...   \n",
       "3  Institute for Medical Engineering & Science - MIT   \n",
       "4  Department of Electrical Engineering and Compu...   \n",
       "\n",
       "                                                   r  \\\n",
       "0    Research | MIT Plasma Science and Fusion Center   \n",
       "1                                           About Us   \n",
       "2  Physical Medicine & Rehabilitation | MIT Techn...   \n",
       "3  Institute for Medical Engineering and Science ...   \n",
       "4                                 MIT EECS: Homepage   \n",
       "\n",
       "                                                   d  \n",
       "0                      Martin Greenwald - PSFC - MIT  \n",
       "1                                           Research  \n",
       "2  Physical Medicine and Rehabilitation Division ...  \n",
       "3  Faculty - Institute for Medical Engineering & ...  \n",
       "4  Electrical Engineering and Computer Science | ...  "
      ]
     },
     "execution_count": 59,
     "metadata": {},
     "output_type": "execute_result"
    }
   ],
   "source": [
    "df.head()"
   ]
  },
  {
   "cell_type": "code",
   "execution_count": 60,
   "metadata": {},
   "outputs": [],
   "source": [
    "#save the results\n",
    "df.to_csv(\"mit_units_googled.csv\", index=False)"
   ]
  },
  {
   "cell_type": "code",
   "execution_count": null,
   "metadata": {},
   "outputs": [],
   "source": []
  }
 ],
 "metadata": {
  "kernelspec": {
   "display_name": "Python 3",
   "language": "python",
   "name": "python3"
  },
  "language_info": {
   "codemirror_mode": {
    "name": "ipython",
    "version": 3
   },
   "file_extension": ".py",
   "mimetype": "text/x-python",
   "name": "python",
   "nbconvert_exporter": "python",
   "pygments_lexer": "ipython3",
   "version": "3.7.4"
  }
 },
 "nbformat": 4,
 "nbformat_minor": 4
}
