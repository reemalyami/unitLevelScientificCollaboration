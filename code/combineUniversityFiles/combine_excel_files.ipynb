{
 "cells": [
  {
   "cell_type": "code",
   "execution_count": 9,
   "metadata": {},
   "outputs": [],
   "source": [
    "import os\n",
    "import glob\n",
    "import pandas as pd\n"
   ]
  },
  {
   "cell_type": "code",
   "execution_count": 10,
   "metadata": {},
   "outputs": [],
   "source": [
    "os.chdir(\"Desktop/Semester 201/ICS 582/Project/2018_2020/MIT/\")"
   ]
  },
  {
   "cell_type": "code",
   "execution_count": 11,
   "metadata": {},
   "outputs": [
    {
     "name": "stdout",
     "output_type": "stream",
     "text": [
      "#Files in the Directory:  58\n"
     ]
    }
   ],
   "source": [
    "#get all files in the current directory \n",
    "\n",
    "extension = 'xls'\n",
    "all_filenames = [i for i in glob.glob('savedrecs*.{}'.format(extension))]\n",
    "\n",
    "#print(*all_filenames,sep='\\n')\n",
    "print(\"#Files in the Directory: \",len(all_filenames))"
   ]
  },
  {
   "cell_type": "code",
   "execution_count": 12,
   "metadata": {},
   "outputs": [
    {
     "name": "stdout",
     "output_type": "stream",
     "text": [
      "File Name: savedrecs (47).xls Length: 501\n",
      "File Name: savedrecs (10).xls Length: 501\n",
      "File Name: savedrecs (51).xls Length: 501\n",
      "File Name: savedrecs (26).xls Length: 501\n",
      "File Name: savedrecs (30).xls Length: 501\n",
      "File Name: savedrecs (31).xls Length: 501\n",
      "File Name: savedrecs (27).xls Length: 501\n",
      "File Name: savedrecs (50).xls Length: 501\n",
      "File Name: savedrecs (1).xls Length: 501\n",
      "File Name: savedrecs (11).xls Length: 501\n",
      "File Name: savedrecs (46).xls Length: 501\n",
      "File Name: savedrecs (20).xls Length: 501\n",
      "File Name: savedrecs (36).xls Length: 501\n",
      "File Name: savedrecs (41).xls Length: 501\n",
      "File Name: savedrecs (16).xls Length: 501\n",
      "File Name: savedrecs (6).xls Length: 501\n",
      "File Name: savedrecs (57).xls Length: 501\n",
      "File Name: savedrecs (56).xls Length: 501\n",
      "File Name: savedrecs (7).xls Length: 501\n",
      "File Name: savedrecs (17).xls Length: 501\n",
      "File Name: savedrecs (40).xls Length: 501\n",
      "File Name: savedrecs (37).xls Length: 501\n",
      "File Name: savedrecs (21).xls Length: 501\n",
      "File Name: savedrecs (8).xls Length: 501\n",
      "File Name: savedrecs (18).xls Length: 501\n",
      "File Name: savedrecs (34).xls Length: 501\n",
      "File Name: savedrecs (22).xls Length: 501\n",
      "File Name: savedrecs (55).xls Length: 501\n",
      "File Name: savedrecs (4).xls Length: 501\n",
      "File Name: savedrecs (14).xls Length: 501\n",
      "File Name: savedrecs (43).xls Length: 501\n",
      "File Name: savedrecs (38).xls Length: 501\n",
      "File Name: savedrecs (39).xls Length: 501\n",
      "File Name: savedrecs (42).xls Length: 501\n",
      "File Name: savedrecs (15).xls Length: 501\n",
      "File Name: savedrecs (5).xls Length: 501\n",
      "File Name: savedrecs (54).xls Length: 501\n",
      "File Name: savedrecs (23).xls Length: 501\n",
      "File Name: savedrecs (35).xls Length: 501\n",
      "File Name: savedrecs (19).xls Length: 501\n",
      "File Name: savedrecs (9).xls Length: 501\n",
      "File Name: savedrecs (58).xls Length: 416\n",
      "File Name: savedrecs (53).xls Length: 501\n",
      "File Name: savedrecs (2).xls Length: 501\n",
      "File Name: savedrecs (12).xls Length: 501\n",
      "File Name: savedrecs (45).xls Length: 501\n",
      "File Name: savedrecs (28).xls Length: 501\n",
      "File Name: savedrecs (49).xls Length: 501\n",
      "File Name: savedrecs (32).xls Length: 501\n",
      "File Name: savedrecs (24).xls Length: 501\n",
      "File Name: savedrecs (25).xls Length: 501\n",
      "File Name: savedrecs (33).xls Length: 501\n",
      "File Name: savedrecs (48).xls Length: 501\n",
      "File Name: savedrecs (29).xls Length: 501\n",
      "File Name: savedrecs (44).xls Length: 501\n",
      "File Name: savedrecs (13).xls Length: 501\n",
      "File Name: savedrecs (3).xls Length: 501\n",
      "File Name: savedrecs (52).xls Length: 501\n",
      "Total #Records: 28973\n"
     ]
    }
   ],
   "source": [
    "#print the files and the size of each file \n",
    "total = 0\n",
    "for file in all_filenames:\n",
    "    name = file\n",
    "    file = pd.read_excel(file, header=None)\n",
    "    length = len(file)\n",
    "    total +=length \n",
    "    print (\"File Name:\", name, \"Length:\",length)\n",
    "print(\"Total #Records:\", total)"
   ]
  },
  {
   "cell_type": "code",
   "execution_count": 14,
   "metadata": {},
   "outputs": [
    {
     "name": "stdout",
     "output_type": "stream",
     "text": [
      "Length of All Files: (28915, 68)\n"
     ]
    }
   ],
   "source": [
    "#combine all files in the list\n",
    "import time \n",
    "start_time = time.time()\n",
    "\n",
    "combined_csv = pd.concat([pd.read_excel(file) for file in all_filenames],axis=0, ignore_index=True)\n",
    "\n",
    "length1= len(combined_csv)\n",
    "print (\"Length of All Files:\", combined_csv.shape)\n"
   ]
  },
  {
   "cell_type": "code",
   "execution_count": 15,
   "metadata": {},
   "outputs": [
    {
     "data": {
      "text/plain": [
       "Index(['Publication Type', 'Authors', 'Book Authors', 'Book Editors',\n",
       "       'Book Group Authors', 'Author Full Names', 'Book Author Full Names',\n",
       "       'Group Authors', 'Article Title', 'Source Title', 'Book Series Title',\n",
       "       'Book Series Subtitle', 'Language', 'Document Type', 'Conference Title',\n",
       "       'Conference Date', 'Conference Location', 'Conference Sponsor',\n",
       "       'Conference Host', 'Author Keywords', 'Keywords Plus', 'Abstract',\n",
       "       'Addresses', 'Reprint Addresses', 'Email Addresses', 'Researcher Ids',\n",
       "       'ORCIDs', 'Funding Orgs', 'Funding Text', 'Cited References',\n",
       "       'Cited Reference Count', 'Times Cited, WoS Core',\n",
       "       'Times Cited, All Databases', '180 Day Usage Count',\n",
       "       'Since 2013 Usage Count', 'Publisher', 'Publisher City',\n",
       "       'Publisher Address', 'ISSN', 'eISSN', 'ISBN', 'Journal Abbreviation',\n",
       "       'Journal ISO Abbreviation', 'Publication Date', 'Publication Year',\n",
       "       'Volume', 'Issue', 'Part Number', 'Supplement', 'Special Issue',\n",
       "       'Meeting Abstract', 'Start Page', 'End Page', 'Article Number', 'DOI',\n",
       "       'Book DOI', 'Early Access Date', 'Number of Pages', 'WoS Categories',\n",
       "       'Research Areas', 'IDS Number', 'UT (Unique WOS ID)', 'Pubmed Id',\n",
       "       'Open Access Designations', 'Highly Cited Status', 'Hot Paper Status',\n",
       "       'Date of Export', 'Unnamed: 67'],\n",
       "      dtype='object')"
      ]
     },
     "execution_count": 15,
     "metadata": {},
     "output_type": "execute_result"
    }
   ],
   "source": [
    "combined_csv.columns"
   ]
  },
  {
   "cell_type": "code",
   "execution_count": 17,
   "metadata": {},
   "outputs": [],
   "source": [
    "combined_csv.to_csv(\"mit_combined.csv\")"
   ]
  }
 ],
 "metadata": {
  "kernelspec": {
   "display_name": "Python 3",
   "language": "python",
   "name": "python3"
  },
  "language_info": {
   "codemirror_mode": {
    "name": "ipython",
    "version": 3
   },
   "file_extension": ".py",
   "mimetype": "text/x-python",
   "name": "python",
   "nbconvert_exporter": "python",
   "pygments_lexer": "ipython3",
   "version": "3.7.4"
  }
 },
 "nbformat": 4,
 "nbformat_minor": 2
}
