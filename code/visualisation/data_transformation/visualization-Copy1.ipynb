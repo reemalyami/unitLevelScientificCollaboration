{
 "cells": [
  {
   "cell_type": "code",
   "execution_count": 1,
   "metadata": {},
   "outputs": [
    {
     "data": {
      "text/html": [
       "<style>.container { width:100% !important; }</style>"
      ],
      "text/plain": [
       "<IPython.core.display.HTML object>"
      ]
     },
     "metadata": {},
     "output_type": "display_data"
    }
   ],
   "source": [
    "# Imports\n",
    "from IPython.core.display import display, HTML\n",
    "display(HTML(\"<style>.container { width:100% !important; }</style>\"))\n",
    "\n",
    "from collections import defaultdict as ddict, Counter\n",
    "from itertools import chain\n",
    "\n",
    "import csv\n",
    "import json\n",
    "import itertools\n",
    "import pandas as pd\n",
    "import networkx as nx\n",
    "import numpy as np\n",
    "import matplotlib.pyplot as plt\n",
    "import plotly.express as px\n",
    "import plotly.graph_objects as go\n",
    "import plotly.io as pio\n",
    "from operator import itemgetter"
   ]
  },
  {
   "cell_type": "code",
   "execution_count": 2,
   "metadata": {},
   "outputs": [],
   "source": [
    "# Read papers\n",
    "\n",
    "def read_papers(filename='authors.csv'):\n",
    "    papers = ddict(set)\n",
    "    authors = ddict(set)\n",
    "    affiliations = ddict(set)\n",
    "    author2affiliation = ddict(set)\n",
    "    paper2authors = ddict(set)\n",
    "    paper2authorsaffiliation = ddict(set)\n",
    "    paper2affiliations = ddict(set)\n",
    "\n",
    "    with open(filename) as csv_file:\n",
    "        csv_reader = csv.reader(csv_file, delimiter=',')\n",
    "        line_count = 0\n",
    "        for row in csv_reader:\n",
    "            if line_count == 0:\n",
    "                line_count += 1\n",
    "                continue\n",
    "            paper_title = row[1].strip()\n",
    "            paper_authors = row[2].strip()\n",
    "            \n",
    "            paper2authors[paper_title].add(paper_authors)\n",
    "            \n",
    "            full_name = paper_authors\n",
    "            affiliation = row[3].strip()\n",
    "            paper2authorsaffiliation[paper_title].add((paper_authors, affiliation))\n",
    "            paper2affiliations[paper_title].add(affiliation)\n",
    "\n",
    "            papers[paper_title.strip()].add(full_name)\n",
    "            authors[full_name.strip()].add(paper_title)\n",
    "            affiliations[affiliation.strip()].add(paper_title)\n",
    "            author2affiliation[full_name.strip()].add(affiliation)\n",
    "            line_count += 1\n",
    "        return papers, authors, affiliations, author2affiliation, paper2authors, paper2authorsaffiliation, paper2affiliations\n",
    "\n",
    "kfupm_papers, kfupm_authors, kfupm_affiliations, kfupm_author2affiliation, kfupm_paper2authors, kfupm_paper2authorsaffiliation, kfupm_paper2affiliations = read_papers(filename='kfupm_authors.csv')\n",
    "ksu_papers, ksu_authors, ksu_affiliations, ksu_author2affiliation, ksu_paper2authors, ksu_paper2authorsaffiliation, ksu_paper2affiliations = read_papers(filename='ksu_authors.csv')\n",
    "mit_papers, mit_authors, mit_affiliations, mit_author2affiliation, mit_paper2authors, mit_paper2authorsaffiliation, mit_paper2affiliations = read_papers(filename='mit_authors.csv')\n",
    "\n",
    "# Affiliaiton -> Papers\n",
    "\n",
    "def get_papers_for_name(affiliations):\n",
    "    name2papers = ddict(set)\n",
    "    for org in affiliations:\n",
    "        name = org\n",
    "        name2papers[name] = name2papers[name].union(set(affiliations[org]))\n",
    "            \n",
    "    return name2papers\n",
    "\n",
    "kfupm_name2papers = get_papers_for_name(kfupm_affiliations)\n",
    "ksu_name2papers = get_papers_for_name(ksu_affiliations)\n",
    "mit_name2papers = get_papers_for_name(mit_affiliations)"
   ]
  },
  {
   "cell_type": "code",
   "execution_count": 3,
   "metadata": {},
   "outputs": [
    {
     "name": "stdout",
     "output_type": "stream",
     "text": [
      "Done\n"
     ]
    }
   ],
   "source": [
    "# Grants\n",
    "\n",
    "def read_grants(paper_filename, grants_filename, paper2affiliations):\n",
    "    name2grants = ddict(set)\n",
    "    with open(grants_filename) as grant_csv_file:\n",
    "        grant_csv_reader = csv.reader(grant_csv_file, delimiter=',')\n",
    "        grant_line_count = 0\n",
    "        for row in grant_csv_reader:\n",
    "            if grant_line_count == 0:\n",
    "                grant_line_count += 1\n",
    "                continue\n",
    "            id = row[0].strip()\n",
    "            grant = row[1].strip()\n",
    "            with open(paper_filename) as paper_csv_file:\n",
    "                paper_csv_reader = csv.reader(paper_csv_file, delimiter=',')\n",
    "                line_count = 0\n",
    "                for paper_row in paper_csv_reader:\n",
    "                    if line_count == 0:\n",
    "                        line_count += 1\n",
    "                        continue\n",
    "                    paper_id = paper_row[0].strip()\n",
    "                    paper_title = paper_row[1].strip()\n",
    "                    if paper_id == id:\n",
    "                        for affiliation in paper2affiliations[paper_title]:\n",
    "                            if name2grants[affiliation] == set():\n",
    "                                name2grants[affiliation] = 0\n",
    "                                name2grants[affiliation] += int(grant)\n",
    "                            else:\n",
    "                                name2grants[affiliation] += int(grant)\n",
    "                        break;\n",
    "                    line_count += 1\n",
    "            grant_line_count += 1\n",
    "        return name2grants\n",
    "\n",
    "# kfupm_name2grants = read_grants('kfupm_authors.csv', 'kfupm_grants.csv', kfupm_paper2affiliations)\n",
    "# print('Done')\n",
    "# ksu_name2grants = read_grants('ksu_authors.csv', 'ksu_grants.csv', ksu_paper2affiliations)\n",
    "# print('Done')\n",
    "mit_name2grants = read_grants('mit_authors.csv', 'mit_grants.csv', mit_paper2affiliations)\n",
    "print('Done')"
   ]
  },
  {
   "cell_type": "code",
   "execution_count": 4,
   "metadata": {},
   "outputs": [],
   "source": [
    "def write_json(data, filename='data.json'): \n",
    "    with open(filename,'w') as f: \n",
    "        json.dump(data, f, indent=4)\n",
    "        \n",
    "# write_json(kfupm_name2grants, 'kfupm_name2grants.json')\n",
    "# write_json(ksu_name2grants, 'ksu_name2grants.json')\n",
    "write_json(mit_name2grants, 'mit_name2grants.json')"
   ]
  },
  {
   "cell_type": "code",
   "execution_count": null,
   "metadata": {},
   "outputs": [],
   "source": []
  }
 ],
 "metadata": {
  "kernelspec": {
   "display_name": "Python 3",
   "language": "python",
   "name": "python3"
  },
  "language_info": {
   "codemirror_mode": {
    "name": "ipython",
    "version": 3
   },
   "file_extension": ".py",
   "mimetype": "text/x-python",
   "name": "python",
   "nbconvert_exporter": "python",
   "pygments_lexer": "ipython3",
   "version": "3.7.6"
  }
 },
 "nbformat": 4,
 "nbformat_minor": 4
}
