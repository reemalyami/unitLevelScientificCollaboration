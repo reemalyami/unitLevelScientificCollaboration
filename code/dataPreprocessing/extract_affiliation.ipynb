{
 "cells": [
  {
   "cell_type": "code",
   "execution_count": 70,
   "metadata": {},
   "outputs": [],
   "source": [
    "import pandas as pd\n",
    "import re "
   ]
  },
  {
   "cell_type": "code",
   "execution_count": 71,
   "metadata": {},
   "outputs": [],
   "source": [
    "#get the data file\n",
    "data = pd.read_excel('Desktop/Semester 201/ICS 582/Project/2018_2020/combined_file.xlsx') "
   ]
  },
  {
   "cell_type": "code",
   "execution_count": 72,
   "metadata": {},
   "outputs": [
    {
     "data": {
      "text/plain": [
       "Index(['ID', 'Article Title', 'Source Title', 'Language', 'Document Type',\n",
       "       'Author Keywords', 'Keywords Plus', 'Addresses', 'Funding Orgs',\n",
       "       'Funding Text', 'Cited Reference Count', 'Times Cited, WoS Core',\n",
       "       'Times Cited All Databases', 'ISSN', 'eISSN', 'Journal Abbreviation',\n",
       "       'Journal ISO Abbreviation', 'Publication Year', 'DOI', 'WoS Categories',\n",
       "       'Research Areas', 'IDS Number', 'UT (Unique WOS ID)',\n",
       "       'Highly Cited Status', 'Hot Paper Status', 'Date of Export'],\n",
       "      dtype='object')"
      ]
     },
     "execution_count": 72,
     "metadata": {},
     "output_type": "execute_result"
    }
   ],
   "source": [
    "#print columns\n",
    "data.columns"
   ]
  },
  {
   "cell_type": "code",
   "execution_count": 73,
   "metadata": {
    "slideshow": {
     "slide_type": "slide"
    }
   },
   "outputs": [
    {
     "name": "stdout",
     "output_type": "stream",
     "text": [
      "(4668, 8)\n"
     ]
    },
    {
     "data": {
      "text/html": [
       "<div>\n",
       "<style scoped>\n",
       "    .dataframe tbody tr th:only-of-type {\n",
       "        vertical-align: middle;\n",
       "    }\n",
       "\n",
       "    .dataframe tbody tr th {\n",
       "        vertical-align: top;\n",
       "    }\n",
       "\n",
       "    .dataframe thead th {\n",
       "        text-align: right;\n",
       "    }\n",
       "</style>\n",
       "<table border=\"1\" class=\"dataframe\">\n",
       "  <thead>\n",
       "    <tr style=\"text-align: right;\">\n",
       "      <th></th>\n",
       "      <th>Addresses</th>\n",
       "      <th>Article Title</th>\n",
       "      <th>ID</th>\n",
       "      <th>Publication Year</th>\n",
       "      <th>Research Areas</th>\n",
       "      <th>Times Cited All Databases</th>\n",
       "      <th>Funding Orgs</th>\n",
       "      <th>Cited Reference Count</th>\n",
       "    </tr>\n",
       "  </thead>\n",
       "  <tbody>\n",
       "    <tr>\n",
       "      <th>2</th>\n",
       "      <td>[Matin, Asif; Baig, Umair; Zubair, S. M.] King...</td>\n",
       "      <td>Superhydrophobic and superoleophilic surfaces ...</td>\n",
       "      <td>181</td>\n",
       "      <td>2018</td>\n",
       "      <td>Chemistry; Materials Science; Physics</td>\n",
       "      <td>13</td>\n",
       "      <td>Deanship of Scientific Research (DSR) at King ...</td>\n",
       "      <td>39</td>\n",
       "    </tr>\n",
       "    <tr>\n",
       "      <th>3</th>\n",
       "      <td>[Cheng, Liang; Fang, Li-Feng; Jeon, Sungil; Li...</td>\n",
       "      <td>Fouling-Resistant and Self-Cleaning Aliphatic ...</td>\n",
       "      <td>182</td>\n",
       "      <td>2018</td>\n",
       "      <td>Science &amp; Technology - Other Topics; Materials...</td>\n",
       "      <td>16</td>\n",
       "      <td>Special Coordination Funds for Promoting Scien...</td>\n",
       "      <td>35</td>\n",
       "    </tr>\n",
       "    <tr>\n",
       "      <th>4</th>\n",
       "      <td>[Bourada, Fouad] Ctr Univ Tissemsilt, Dept Sci...</td>\n",
       "      <td>A novel refined plate theory for stability ana...</td>\n",
       "      <td>183</td>\n",
       "      <td>2018</td>\n",
       "      <td>Engineering</td>\n",
       "      <td>66</td>\n",
       "      <td>NaN</td>\n",
       "      <td>152</td>\n",
       "    </tr>\n",
       "    <tr>\n",
       "      <th>5</th>\n",
       "      <td>[Kazeem, Taye S.; Lateef, Saheed A.] King Fahd...</td>\n",
       "      <td>Aluminium-modified activated carbon as efficie...</td>\n",
       "      <td>184</td>\n",
       "      <td>2018</td>\n",
       "      <td>Science &amp; Technology - Other Topics; Engineeri...</td>\n",
       "      <td>24</td>\n",
       "      <td>King Fahd University of Petroleum &amp; Minerals (...</td>\n",
       "      <td>61</td>\n",
       "    </tr>\n",
       "    <tr>\n",
       "      <th>6</th>\n",
       "      <td>[Kazi, Izzat W.; Ullah, Nisar; Ali, Shaikh A.]...</td>\n",
       "      <td>A New Resin Containing Aminopropylphosphonate ...</td>\n",
       "      <td>185</td>\n",
       "      <td>2018</td>\n",
       "      <td>Chemistry</td>\n",
       "      <td>0</td>\n",
       "      <td>KFUPM project [NUS15103/4]</td>\n",
       "      <td>66</td>\n",
       "    </tr>\n",
       "  </tbody>\n",
       "</table>\n",
       "</div>"
      ],
      "text/plain": [
       "                                           Addresses  \\\n",
       "2  [Matin, Asif; Baig, Umair; Zubair, S. M.] King...   \n",
       "3  [Cheng, Liang; Fang, Li-Feng; Jeon, Sungil; Li...   \n",
       "4  [Bourada, Fouad] Ctr Univ Tissemsilt, Dept Sci...   \n",
       "5  [Kazeem, Taye S.; Lateef, Saheed A.] King Fahd...   \n",
       "6  [Kazi, Izzat W.; Ullah, Nisar; Ali, Shaikh A.]...   \n",
       "\n",
       "                                       Article Title   ID  Publication Year  \\\n",
       "2  Superhydrophobic and superoleophilic surfaces ...  181              2018   \n",
       "3  Fouling-Resistant and Self-Cleaning Aliphatic ...  182              2018   \n",
       "4  A novel refined plate theory for stability ana...  183              2018   \n",
       "5  Aluminium-modified activated carbon as efficie...  184              2018   \n",
       "6  A New Resin Containing Aminopropylphosphonate ...  185              2018   \n",
       "\n",
       "                                      Research Areas  \\\n",
       "2              Chemistry; Materials Science; Physics   \n",
       "3  Science & Technology - Other Topics; Materials...   \n",
       "4                                        Engineering   \n",
       "5  Science & Technology - Other Topics; Engineeri...   \n",
       "6                                          Chemistry   \n",
       "\n",
       "   Times Cited All Databases  \\\n",
       "2                         13   \n",
       "3                         16   \n",
       "4                         66   \n",
       "5                         24   \n",
       "6                          0   \n",
       "\n",
       "                                        Funding Orgs  Cited Reference Count  \n",
       "2  Deanship of Scientific Research (DSR) at King ...                     39  \n",
       "3  Special Coordination Funds for Promoting Scien...                     35  \n",
       "4                                                NaN                    152  \n",
       "5  King Fahd University of Petroleum & Minerals (...                     61  \n",
       "6                         KFUPM project [NUS15103/4]                     66  "
      ]
     },
     "execution_count": 73,
     "metadata": {},
     "output_type": "execute_result"
    }
   ],
   "source": [
    "\n",
    "#get the columns during 2018-2020\n",
    "data_2018_2020 = data.loc[data['Publication Year'] > 2017, ['Addresses','Article Title','ID','Publication Year','Research Areas','Times Cited All Databases','Funding Orgs','Cited Reference Count']]\n",
    "print(data_2018_2020.shape)\n",
    "type(data_2018_2020)\n",
    "data_2018_2020.head()"
   ]
  },
  {
   "cell_type": "code",
   "execution_count": 75,
   "metadata": {},
   "outputs": [],
   "source": [
    "#extract affiliation and add it to the dictionary\n",
    "\n",
    "table = {\"paper\": [], \"title\": [], \"author\": [], \"affiliation\": [], \"cite\": [],\"year\":[],\"area\":[]}\n",
    "for x in data_2018_2020.index:\n",
    "    #split the data based on brackets []\n",
    "    \n",
    "    \n",
    "    \n",
    "    result = re.split(r\"\\[(.*?)\\]\", data_2018_2020['Addresses'][x])\n",
    "    result = list(filter(None, result)) #if we have empty strings remove it\n",
    "    \n",
    "    #go through each address and proccess it\n",
    "    for i in range(len(result)):\n",
    "        #get the affiliation (it's always odd position since the )\n",
    "        if i % 2 == 1: \n",
    "            kfupm = re.search(\"KFUPM|King Fahd U|King Fahad U|King Fand U\",result[i])\n",
    "            if kfupm:\n",
    "                #split authors returns list of authors\n",
    "                authors = re.split(r\"[;]\", result[i-1])\n",
    "                #split affiliation returns list of affiliations [uni,dept|crt,dhaharan,sa]\n",
    "                affiliations = re.split(r\"[,]\", result[i])\n",
    "                dept = \"\"\n",
    "                for unit in affiliations:\n",
    "                    if re.search('Dept|Ctr|Coll|Res|Studies|Engn',unit):\n",
    "                        dept = unit\n",
    "                for author in authors:\n",
    "                    table[\"paper\"].append(data_2018_2020['ID'][x])\n",
    "                    table[\"title\"].append(data_2018_2020['Article Title'][x])\n",
    "                    table[\"author\"].append(author)\n",
    "                    table[\"affiliation\"].append(dept)\n",
    "                    table[\"cite\"].append(data_2018_2020['Times Cited All Databases'][x])\n",
    "                    table[\"year\"].append(data_2018_2020['Publication Year'][x])\n"
   ]
  },
  {
   "cell_type": "code",
   "execution_count": 77,
   "metadata": {},
   "outputs": [
    {
     "name": "stdout",
     "output_type": "stream",
     "text": [
      "7\n"
     ]
    }
   ],
   "source": [
    "print(len(table))"
   ]
  },
  {
   "cell_type": "code",
   "execution_count": null,
   "metadata": {},
   "outputs": [],
   "source": [
    "#convert the dictionary to a data frame and save it to csv\n",
    "\n",
    "df=pd.DataFrame.from_dict(table,orient='index').transpose()\n",
    "print(df.shape)\n",
    "print(df.head)\n",
    "df.to_csv('authors_all_publication_year_filled_udated.csv', index = False)\n"
   ]
  },
  {
   "cell_type": "code",
   "execution_count": null,
   "metadata": {},
   "outputs": [],
   "source": [
    "print(depts)"
   ]
  },
  {
   "cell_type": "code",
   "execution_count": null,
   "metadata": {},
   "outputs": [],
   "source": [
    "def unique(list1): \n",
    "  \n",
    "    # intilize a null list \n",
    "    unique_list = [] \n",
    "      \n",
    "    # traverse for all elements \n",
    "    for x in list1: \n",
    "        # check if exists in unique_list or not \n",
    "        if x not in unique_list: \n",
    "            unique_list.append(x) \n",
    "    # print list \n",
    "    #for x in unique_list: \n",
    "        #print(x)\n",
    "    return unique_list"
   ]
  },
  {
   "cell_type": "code",
   "execution_count": 78,
   "metadata": {},
   "outputs": [],
   "source": [
    "#identify the funding of each paper if funded 1 else 0\n",
    "import re\n",
    "table = {\"id\": [], \"grant\":[]}\n",
    "data_2018_2020['Funding Orgs'] = data_2018_2020['Funding Orgs'].fillna('')\n",
    "\n",
    "for i in data_2018_2020.index:\n",
    "   # print(data_2018_2020['ID'][i])\n",
    "    table['id'].append(data_2018_2020['ID'][i])\n",
    "    grant = str(data_2018_2020['Funding Orgs'][i])\n",
    "    grant = grant.replace(r\"\\s\", \"\")\n",
    "    #print(grant)\n",
    "    if grant:\n",
    "        table['grant'].append(1)\n",
    "    else:\n",
    "        #print('empty')\n",
    "        table['grant'].append(0)\n",
    "\n",
    "    "
   ]
  },
  {
   "cell_type": "code",
   "execution_count": 68,
   "metadata": {},
   "outputs": [
    {
     "data": {
      "text/plain": [
       "dict_values([3294, 1374])"
      ]
     },
     "execution_count": 68,
     "metadata": {},
     "output_type": "execute_result"
    }
   ],
   "source": [
    "from collections import Counter\n",
    "\n",
    "\n",
    "Counter(table['grant']).keys() # equals to list(set(words))\n",
    "Counter(table['grant']).values() # counts the elements' frequency\n"
   ]
  },
  {
   "cell_type": "code",
   "execution_count": 69,
   "metadata": {},
   "outputs": [
    {
     "name": "stdout",
     "output_type": "stream",
     "text": [
      "(4668, 2)\n",
      "<bound method NDFrame.head of         id  grant\n",
      "0      181      1\n",
      "1      182      1\n",
      "2      183      0\n",
      "3      184      1\n",
      "4      185      1\n",
      "...    ...    ...\n",
      "4663  3445      1\n",
      "4664  3448      1\n",
      "4665  3453      0\n",
      "4666  3454      1\n",
      "4667  2448      1\n",
      "\n",
      "[4668 rows x 2 columns]>\n"
     ]
    }
   ],
   "source": [
    "#save the funding information in a file \n",
    "df=pd.DataFrame.from_dict(table,orient='index').transpose()\n",
    "print(df.shape)\n",
    "print(df.head)\n",
    "df.to_csv('kfupm_grant.csv', index = False)\n"
   ]
  }
 ],
 "metadata": {
  "kernelspec": {
   "display_name": "Python 3",
   "language": "python",
   "name": "python3"
  },
  "language_info": {
   "codemirror_mode": {
    "name": "ipython",
    "version": 3
   },
   "file_extension": ".py",
   "mimetype": "text/x-python",
   "name": "python",
   "nbconvert_exporter": "python",
   "pygments_lexer": "ipython3",
   "version": "3.7.4"
  }
 },
 "nbformat": 4,
 "nbformat_minor": 4
}
