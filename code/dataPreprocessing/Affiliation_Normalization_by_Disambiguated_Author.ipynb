{
 "cells": [
  {
   "cell_type": "code",
   "execution_count": 1,
   "metadata": {},
   "outputs": [],
   "source": [
    "import pandas as pd\n",
    "import re"
   ]
  },
  {
   "cell_type": "code",
   "execution_count": 45,
   "metadata": {},
   "outputs": [],
   "source": [
    "allData = pd.read_csv(r'/Users/nadee/Documents/1Graduate Studies/Term 2/NLP/Project/Code/authors_disambiguation_normalized_affiliations_replaced_some.csv') \n",
    "authorsData = pd.read_csv(r'/Users/nadee/Documents/1Graduate Studies/Term 2/NLP/Project/Code/KFUPM_Faculty_Disambiguation.csv') "
   ]
  },
  {
   "cell_type": "code",
   "execution_count": 46,
   "metadata": {},
   "outputs": [],
   "source": [
    "dataFrame1 = pd.DataFrame(allData, columns=['paper','title', 'author', 'affiliation', 'cite', 'year'])\n",
    "dataFrame2 = pd.DataFrame(authorsData, columns=['author', 'affiliation'])\n",
    "dataFrame1.fillna('', inplace=True)"
   ]
  },
  {
   "cell_type": "code",
   "execution_count": 47,
   "metadata": {},
   "outputs": [],
   "source": [
    "authors1 = dataFrame1[\"author\"]\n",
    "authors2 = dataFrame2[\"author\"]\n",
    "\n",
    "affiliation1 = dataFrame1[\"affiliation\"]\n",
    "affiliation2 = dataFrame2[\"affiliation\"]\n",
    "\n",
    "authors_list1 = authors1.tolist()\n",
    "authors_list2 = authors2.tolist()\n",
    "\n",
    "affiliations_list1 = affiliation1.tolist()\n",
    "affiliations_list2 = affiliation2.tolist()\n",
    "\n",
    "for x in range(len(affiliations_list2)):\n",
    "    affiliations_list2[x] = affiliations_list2[x].strip()"
   ]
  },
  {
   "cell_type": "code",
   "execution_count": 48,
   "metadata": {},
   "outputs": [
    {
     "name": "stdout",
     "output_type": "stream",
     "text": [
      "College/School: coll comp sci & engn\n",
      "College/School: KFUPM Business School\n",
      "College/School: KFUPM Business School\n",
      "College/School: coll petr engn & geosci\n",
      "College/School: coll petr & geosci\n",
      "College/School: coll engn\n",
      "College/School: coll petr engn & geosci\n",
      "Research centers: res inst\n",
      "Research centers: res ctr\n",
      "College/School: coll comp sci & engn\n",
      "College/School: coll comp sci & engn\n",
      "College/School: coll comp sci & engn\n",
      "Research centers: res inst\n",
      "Research centers: schlumberger dhahran carbonate res ctr\n",
      "Research centers: schlumberger dhahran carbonate res ctr\n",
      "College/School: coll petr engn & geosci\n",
      "College/School: coll petr engn & geosci\n",
      "College/School: coll petr engn & geosci cpg\n",
      "College/School: coll engn\n",
      "College/School: coll comp sci & engn\n",
      "College/School: coll petr engn & geosci\n",
      "College/School: coll petr engn & geosci\n",
      "College/School: coll petr engn & geosci\n",
      "College/School: coll petr engn & geosci\n",
      "College/School: KFUPM Business School\n",
      "College/School: coll sci\n",
      "College/School: coll sci\n",
      "College/School: coll petr engn & geosci\n",
      "College/School: coll petr engn & geosci\n",
      "College/School: coll petr engn & geosci\n",
      "College/School: coll petr engn & geosci\n",
      "College/School: coll petr engn & geosci\n",
      "College/School: KFUPM Business School\n",
      "College/School: KFUPM Business School\n",
      "Research centers: schlumberger dhahran carbonate res ctr\n",
      "Research centers: schlumberger dhahran carbonate res ctr\n",
      "Research centers: schlumberger dhahran carbonate res ctr\n",
      "Research centers: res inst\n",
      "College/School: coll petr engn & geosci\n",
      "Research centers: res inst\n",
      "College/School: coll comp sci & engn\n",
      "College/School: coll comp sci & engn\n",
      "College/School: coll petr geosci\n",
      "College/School: collage comp sci & engn\n",
      "College/School: General Studies College\n",
      "College/School: coll petr engn & geosci\n",
      "Research centers: res inst\n",
      "Research centers: res inst\n",
      "Research centers: res inst\n",
      "College/School: coll petr engn & geosci\n",
      "College/School: coll petr engn & geosci\n",
      "Research centers: res inst\n",
      "College/School: coll petr engn & geosci\n",
      "College/School: coll petr engn & geosci\n",
      "Research centers: res inst\n",
      "College/School: coll petr engn & geosci\n",
      "College/School: coll comp sci & engn\n",
      "College/School: General Studies College\n",
      "College/School: coll petr & geosci\n",
      "College/School: coll petr engn & geosci\n",
      "College/School: coll petr engn & geosci\n",
      "College/School: coll comp sci & engn\n",
      "College/School: coll petr & geosci\n",
      "College/School: coll petr engn & geosci\n",
      "Research centers: res inst\n",
      "Research centers: res inst\n",
      "College/School: coll petr engn & geosci\n",
      "College/School: coll petr engn & geosci\n",
      "College/School: coll petr engn & geosci\n",
      "College/School: coll comp sci & engn\n",
      "College/School: coll petr engn & geosci\n",
      "College/School: KFUPM Business School\n",
      "College/School: KFUPM Business School\n",
      "College/School: coll petr engn & geosci\n",
      "College/School: coll petr engn & geosci\n",
      "College/School: coll petr engn & geosci\n",
      "College/School: coll engn\n",
      "Research centers: res inst\n",
      "College/School: coll petr engn & geosci\n",
      "Research centers: res inst\n",
      "Research centers: res inst\n",
      "College/School: coll petr engn & geosci\n",
      "College/School: coll petr engn & geosci\n",
      "College/School: coll petr engn & geosci\n",
      "College/School: coll sci\n",
      "Research centers: res inst\n",
      "College/School: coll engn\n",
      "College/School: coll comp sci & engn\n",
      "College/School: coll comp sci & engn\n",
      "College/School: coll comp sci & engn\n",
      "College/School: KFUPM Business School\n",
      "College/School: KFUPM Business School\n",
      "College/School: coll sci\n",
      "Research centers: res inst\n",
      "Research centers: res inst\n",
      "College/School: coll petr engn & geosci\n",
      "College/School: coll petr engn & geosci\n",
      "College/School: coll petr engn & geosci\n",
      "College/School: coll petr engn & geosci\n",
      "Research centers: res inst\n",
      "Research centers: res inst\n",
      "College/School: coll petr engn & geosci\n",
      "College/School: coll petr engn & geosci\n",
      "College/School: coll petr engn & geosci\n",
      "College/School: coll petr engn & geosci\n",
      "College/School: coll petr engn & geosci\n",
      "College/School: coll petr engn & geosci\n",
      "College/School: coll petr engn & geosci\n",
      "College/School: coll engn res\n",
      "College/School: coll petr engn & geosci\n",
      "Research centers: res inst\n",
      "College/School: coll petr engn & geosci\n",
      "College/School: coll petr engn & geosci\n",
      "Research centers: res inst\n",
      "College/School: coll petr engn & geosci cpg\n",
      "College/School: KFUPM Business School\n",
      "College/School: coll petr engn & geosci\n",
      "College/School: coll petr engn & geosci\n",
      "College/School: coll petr engn & geosci\n",
      "College/School: coll petr engn & geosci\n",
      "College/School: coll petr engn & geosci\n",
      "College/School: coll petr engn & geosci\n",
      "College/School: coll petr & geosci\n",
      "College/School: coll petr engn & geosci\n",
      "College/School: coll petr engn & geosci\n",
      "College/School: coll petr engn & geosci\n",
      "College/School: coll petr engn & geosci\n",
      "College/School: coll petr engn & geosci\n",
      "College/School: coll petr engn & geosci\n",
      "College/School: KFUPM Business School\n",
      "College/School: coll petr engn & geosci\n",
      "Research centers: res inst\n",
      "College/School: coll petr engn & geosci\n",
      "College/School: coll engn sci & appl engn\n",
      "College/School: coll petr engn & geosci\n",
      "College/School: General Studies College\n",
      "Research centers: res inst\n",
      "College/School: coll engn\n",
      "College/School: coll petr engn & geosci\n",
      "College/School: coll petr engn & geosci\n",
      "Research centers: res inst\n",
      "Research centers: res inst\n",
      "College/School: coll petr engn & geosci\n",
      "College/School: coll petr engn & geosci\n",
      "College/School: coll petr engn\n",
      "Research centers: res inst\n",
      "Research centers: res inst\n",
      "College/School: coll petr engn & geosci\n",
      "College/School: coll petr engn & geosci\n",
      "College/School: coll petr engn & geosci\n",
      "College/School: coll petr engn & geosci\n",
      "College/School: coll petr engn & geosci\n",
      "College/School: coll petr engn & geosci\n",
      "College/School: coll petr engn & geosci\n",
      "College/School: General Studies College\n",
      "College/School: KFUPM Business School\n",
      "College/School: coll petr & geosci\n",
      "Research centers: res inst\n",
      "Research centers: res inst\n",
      "Research centers: res inst\n",
      "Research centers: res inst\n",
      "Research centers: res inst\n",
      "Research centers: res inst\n",
      "Research centers: res inst\n",
      "Research centers: res inst\n",
      "College/School: coll petr engn & geosci cpg\n",
      "College/School: coll petr engn & geosci cpg\n",
      "College/School: coll petr engn & geosci cpg\n",
      "College/School: coll petr engn & geosci cpg\n",
      "College/School: coll petr engn & geosci cpg\n",
      "Research centers: res inst\n",
      "Research centers: res inst\n",
      "Research centers: res inst\n",
      "Research centers: res inst\n",
      "College/School: coll petr engn & geosci\n",
      "College/School: coll petr engn & geosci\n",
      "College/School: coll petr engn & geosci\n",
      "College/School: coll petr engn & geosci\n",
      "Research centers: res inst\n",
      "Research centers: res inst\n",
      "College/School: coll petr engn & geosci\n",
      "College/School: coll petr engn & geosci\n",
      "Research centers: res inst\n",
      "College/School: coll petr engn & geosci\n",
      "College/School: coll petr engn & geosci\n",
      "Research centers: res inst\n",
      "Research centers: res inst\n",
      "Research centers: res inst\n",
      "Research centers: res inst\n",
      "College/School: coll petr engn & geosci cpg\n",
      "College/School: coll petr engn & geosci\n",
      "College/School: coll petr engn & geosci\n",
      "College/School: coll petr engn & geosci\n",
      "College/School: coll petr engn & geosci\n",
      "College/School: coll petr engn & geosci\n",
      "College/School: coll petr engn & geosci\n",
      "College/School: coll petr engn & geosci\n",
      "College/School: coll petr engn & geosci\n",
      "College/School: coll petr engn & geosci\n",
      "College/School: coll petr engn & geosci\n",
      "College/School: coll petr engn & geosci\n",
      "College/School: coll petr engn & geosci\n",
      "College/School: coll petr engn & geosci\n",
      "College/School: coll petr engn & geosci\n",
      "College/School: coll petr engn & geosci\n",
      "College/School: coll petr engn & geosci\n",
      "College/School: coll petr engn geosci\n",
      "College/School: coll petr engn geosci\n",
      "Research centers: res inst\n",
      "Research centers: res inst\n",
      "College/School: coll petr engn & geosci\n",
      "College/School: coll petr engn & geosci\n",
      "College/School: coll engn res cer\n",
      "College/School: coll petr engn & geosci\n",
      "College/School: coll petr & geosci\n",
      "College/School: coll petr engn & geosci\n",
      "College/School: coll petr & geosci\n",
      "College/School: coll petr & geosci\n",
      "College/School: coll petr engn & geosci\n",
      "College/School: coll petr engn & geosci\n",
      "Research centers: res inst\n",
      "College/School: KFUPM Business School\n",
      "College/School: coll petr engn & geosci\n",
      "College/School: coll petr engn & geosci\n",
      "College/School: coll petr engn & geosci\n",
      "College/School: coll petr engn & geosci\n",
      "College/School: coll petr engn & geosci\n",
      "College/School: coll petr & geosci\n",
      "Research centers: res inst\n",
      "College/School: coll petr engn & geosci\n",
      "College/School: coll petr engn & geosci\n",
      "College/School: coll petr engn & geosci\n",
      "College/School: coll petr engn & geosci\n",
      "College/School: coll petr engn & geosci\n",
      "College/School: KFUPM Business School\n",
      "Research centers: res inst\n",
      "College/School: coll petr engn & geosci\n",
      "Research centers: res inst\n",
      "College/School: coll petr engn & geosci\n",
      "College/School: coll petr engn & geosci\n",
      "College/School: coll petr engn & geosci\n",
      "College/School: coll petr engn & geosci\n",
      "College/School: coll petr engn & geosci\n",
      "College/School: coll petr engn & geosci\n",
      "College/School: coll petr engn & geosci\n",
      "College/School: KFUPM Business School\n",
      "College/School: KFUPM Business School\n",
      "Research centers: res inst\n",
      "Research centers: res inst\n",
      "Research centers: res inst\n",
      "Research centers: res inst\n",
      "College/School: coll petr engn & geosci\n",
      "College/School: coll petr engn & geosci\n",
      "College/School: coll petr engn & geosci\n",
      "College/School: coll petr engn & geosci\n",
      "College/School: coll petr engn & geosci cpg\n",
      "College/School: coll petr engn & geosci\n",
      "College/School: coll environm design\n",
      "College/School: coll petr engn & geosci\n",
      "College/School: coll petr engn & geosci\n",
      "College/School: coll petr engn & geosci\n",
      "College/School: coll petr engn & geosci\n",
      "Research centers: res inst\n",
      "College/School: coll petr engn & geosci\n",
      "College/School: coll petr engn & geosci\n",
      "College/School: coll petr engn & geosci\n",
      "College/School: coll petr engn & geosci\n",
      "College/School: KFUPM Business School\n",
      "College/School: coll petr engn & geosci\n",
      "College/School: coll petr engn & geosci\n",
      "College/School: coll petr engn & geosci\n",
      "Research centers: res inst\n",
      "Research centers: res inst\n",
      "Research centers: res inst\n",
      "Research centers: res inst\n",
      "College/School: KFUPM Business School\n",
      "College/School: KFUPM Business School\n",
      "College/School: coll petr engn & geosci cpg\n",
      "College/School: 211\n",
      "Research centers: 67\n"
     ]
    }
   ],
   "source": [
    "#Counting authors with coll, School, rest inst, res ctr, ctr res excellence, res inst ri, cer res inst, OR centers res excellence affiliations\n",
    "collSchoolCount = ctrCount = 0\n",
    "for i in range(len(affiliations_list1)):\n",
    "    if(re.search(r'coll|\\bGeneral Studies College\\b|\\bSchool\\b|\\bsch engn\\b', affiliations_list1[i])):\n",
    "        collSchoolCount = collSchoolCount+1\n",
    "        print('College/School:', affiliations_list1[i])\n",
    "    elif(re.search(r'\\bres\\b|\\bctr\\b|\\bctr res excellence\\b|\\bres inst ri\\b|\\bcer res inst\\b|\\bcenters res excellence\\b', affiliations_list1[i])):\n",
    "        ctrCount = ctrCount+1\n",
    "        print('Research centers:', affiliations_list1[i])\n",
    "print('College/School:', collSchoolCount)\n",
    "print('Research centers:', ctrCount)"
   ]
  },
  {
   "cell_type": "code",
   "execution_count": 49,
   "metadata": {},
   "outputs": [
    {
     "name": "stdout",
     "output_type": "stream",
     "text": [
      "College/School to Department - same file 51\n"
     ]
    }
   ],
   "source": [
    "#1 - Change authors with coll or School affiliation to dept affiliation from the same file after author disambiguation\n",
    "replaced_collSch_to_dept1 = 0\n",
    "for x in range(len(dataFrame1)):\n",
    "    dept_aff1 = []\n",
    "    if re.search(r'coll|\\bGeneral Studies College\\b|School|\\bsch engn\\b', affiliations_list1[x]):\n",
    "        #print(\"issue\", affiliations_list[x])\n",
    "        for y in range(len(dataFrame1)):\n",
    "            if x!=y:\n",
    "                if authors_list1[x] == authors_list1[y]:\n",
    "                    if affiliations_list1[y] and affiliations_list1[x]!=affiliations_list1[y] and not re.search(';', affiliations_list1[y]):\n",
    "                        if re.search('Department', affiliations_list1[y]):\n",
    "                            if affiliations_list1[y] not in dept_aff1:\n",
    "                                dept_aff1.append(affiliations_list1[y])\n",
    "        for z in range(len(dept_aff1)):\n",
    "            if dept_aff1[z] not in affiliations_list1[x]:\n",
    "                if z==0:\n",
    "                    affiliations_list1[x] = dept_aff1[z]\n",
    "                    replaced_collSch_to_dept1 = replaced_collSch_to_dept1+1\n",
    "                else:\n",
    "                    affiliations_list1[x] = affiliations_list1[x] + \" ; \"+ dept_aff1[z]\n",
    "                        \n",
    "print(\"College/School to Department - same file\", replaced_collSch_to_dept1)\n",
    "#print(affiliations_list)"
   ]
  },
  {
   "cell_type": "code",
   "execution_count": 50,
   "metadata": {},
   "outputs": [
    {
     "name": "stdout",
     "output_type": "stream",
     "text": [
      "ctr to Research Center - same file 26\n"
     ]
    }
   ],
   "source": [
    "#1 - Change authors with res or ctr affiliation to research center affiliation from the same file after author disambiguation\n",
    "replaced_ctr_to_ctr1 = 0\n",
    "for x in range(len(dataFrame1)):\n",
    "    ctr_aff1 = []\n",
    "    if re.search(r'\\bres\\b|\\bctr\\b|\\bctr res excellence\\b|\\bres inst ri\\b|\\bcer res inst\\b|\\bcenters res excellence\\b', affiliations_list1[x]):\n",
    "        #print(\"issue\", affiliations_list[x])\n",
    "        for y in range(len(dataFrame1)):\n",
    "            if x!=y:\n",
    "                if authors_list1[x] == authors_list1[y]:\n",
    "                    if affiliations_list1[y] and affiliations_list1[x]!=affiliations_list1[y] and not re.search(';', affiliations_list1[y]):\n",
    "                        if re.search('Center', affiliations_list1[y]):\n",
    "                            if affiliations_list1[y] not in ctr_aff1:\n",
    "                                ctr_aff1.append(affiliations_list1[y])\n",
    "        for z in range(len(ctr_aff1)):\n",
    "            if ctr_aff1[z] not in affiliations_list1[x]:\n",
    "                if z==0:\n",
    "                    affiliations_list1[x] = ctr_aff1[z]\n",
    "                    replaced_ctr_to_ctr1 = replaced_ctr_to_ctr1+1\n",
    "                else:\n",
    "                    affiliations_list1[x] = affiliations_list1[x] + \" ; \"+ ctr_aff1[z]\n",
    "                        \n",
    "print(\"ctr to Research Center - same file\", replaced_ctr_to_ctr1)\n",
    "#print(affiliations_list)"
   ]
  },
  {
   "cell_type": "code",
   "execution_count": 51,
   "metadata": {},
   "outputs": [
    {
     "name": "stdout",
     "output_type": "stream",
     "text": [
      "College/School to Department - other file: 24\n"
     ]
    }
   ],
   "source": [
    "#2 - Change authors with coll or School affiliation to Department affiliation\n",
    "#from the other file\n",
    "replaced_collSch_to_dept2 = 0\n",
    "for x in range(len(dataFrame1)):\n",
    "    if re.search(r'coll|\\bGeneral Studies College\\b|School|\\bsch engn\\b', affiliations_list1[x]):\n",
    "        #print(\"issue\", affiliations_list[x])\n",
    "        for y in range(len(dataFrame2)):\n",
    "            if x!=y:\n",
    "                if authors_list1[x] == authors_list2[y]:\n",
    "                    if affiliations_list2[y] and affiliations_list1[x]!=affiliations_list2[y]:\n",
    "                        if re.search('Department', affiliations_list2[y]):\n",
    "                            affiliations_list1[x] = affiliations_list2[y]\n",
    "                            replaced_collSch_to_dept2 = replaced_collSch_to_dept2+1\n",
    "                            break\n",
    "                        \n",
    "print(\"College/School to Department - other file:\", replaced_collSch_to_dept2)\n",
    "#print(affiliations_list)"
   ]
  },
  {
   "cell_type": "code",
   "execution_count": 52,
   "metadata": {},
   "outputs": [
    {
     "name": "stdout",
     "output_type": "stream",
     "text": [
      "ctr to Research Center - other file: 0\n"
     ]
    }
   ],
   "source": [
    "#2 - Change authors with ctr affiliation to research center affiliation\n",
    "#from the other file\n",
    "replaced_ctr_to_ctr2 = 0\n",
    "for x in range(len(dataFrame1)):\n",
    "    if re.search(r'\\bres\\b|\\bctr\\b|\\bctr res excellence\\b|\\bres inst ri\\b|\\bcer res inst\\b|\\bcenters res excellence\\b', affiliations_list1[x]):\n",
    "        for y in range(len(dataFrame2)):\n",
    "            if x!=y:\n",
    "                if authors_list1[x] == authors_list2[y]:\n",
    "                    if affiliations_list2[y] and affiliations_list1[x]!=affiliations_list2[y]:\n",
    "                        if re.search('Center', affiliations_list2[y]):\n",
    "                            affiliations_list1[x] = affiliations_list2[y]\n",
    "                            replaced_ctr_to_ctr2 = replaced_ctr_to_ctr2+1\n",
    "                            break\n",
    "\n",
    "print(\"ctr to Research Center - other file:\", replaced_ctr_to_ctr2)\n"
   ]
  },
  {
   "cell_type": "code",
   "execution_count": 53,
   "metadata": {},
   "outputs": [
    {
     "name": "stdout",
     "output_type": "stream",
     "text": [
      "College/School to Research Center - same file 36\n"
     ]
    }
   ],
   "source": [
    "#3 - Change authors with coll or School affiliation to research center affiliation from the same file\n",
    "replaced_collSch_to_ctr3 = 0\n",
    "for x in range(len(dataFrame1)):\n",
    "    ctr_aff3 = []\n",
    "    if re.search(r'coll|\\bGeneral Studies College\\b|School|\\bsch engn\\b', affiliations_list1[x]):\n",
    "        for y in range(len(dataFrame1)):\n",
    "            if x!=y:\n",
    "                if authors_list1[x] == authors_list1[y]:\n",
    "                    if affiliations_list1[y] and affiliations_list1[x]!=affiliations_list1[y] and not re.search(';', affiliations_list1[y]):\n",
    "                        if re.search('Center', affiliations_list1[y]):\n",
    "                            if affiliations_list1[y] not in ctr_aff3:\n",
    "                                ctr_aff3.append(affiliations_list1[y])\n",
    "        for z in range(len(ctr_aff3)):\n",
    "            if ctr_aff3[z] not in affiliations_list1[x]:\n",
    "                if z==0:\n",
    "                    affiliations_list1[x] = ctr_aff3[z]\n",
    "                    replaced_collSch_to_ctr3 = replaced_collSch_to_ctr3+1\n",
    "                else:\n",
    "                    affiliations_list1[x] = affiliations_list1[x] + \" ; \"+ ctr_aff3[z]\n",
    "                        \n",
    "print(\"College/School to Research Center - same file\", replaced_collSch_to_ctr3)\n",
    "#print(affiliations_list)"
   ]
  },
  {
   "cell_type": "code",
   "execution_count": 54,
   "metadata": {},
   "outputs": [
    {
     "name": "stdout",
     "output_type": "stream",
     "text": [
      "Research Center to Department - same file 7\n"
     ]
    }
   ],
   "source": [
    "#3 - Change authors with ctr affiliation to department affiliation from the same file\n",
    "replaced_ctr_to_dept3 = 0\n",
    "for x in range(len(dataFrame1)):\n",
    "    dept_aff3 = []\n",
    "    if re.search(r'\\bres\\b|\\bctr\\b|\\bctr res excellence\\b|\\bres inst ri\\b|\\bcer res inst\\b|\\bcenters res excellence\\b', affiliations_list1[x]):\n",
    "        for y in range(len(dataFrame1)):\n",
    "            if x!=y:\n",
    "                if authors_list1[x] == authors_list1[y]:\n",
    "                    if affiliations_list1[y] and affiliations_list1[x]!=affiliations_list1[y] and not re.search(';', affiliations_list1[y]):\n",
    "                        if re.search('Department', affiliations_list1[y]):\n",
    "                            if affiliations_list1[y] not in dept_aff3:\n",
    "                                dept_aff3.append(affiliations_list1[y])\n",
    "        for z in range(len(dept_aff3)):\n",
    "            if dept_aff3[z] not in affiliations_list1[x]:\n",
    "                if z==0:\n",
    "                    affiliations_list1[x] = dept_aff3[z]\n",
    "                    replaced_ctr_to_dept3 = replaced_ctr_to_dept3+1\n",
    "                else:\n",
    "                    affiliations_list1[x] = affiliations_list1[x] + \" ; \"+ dept_aff3[z]\n",
    "                        \n",
    "print(\"Research Center to Department - same file\", replaced_ctr_to_dept3)\n",
    "#print(affiliations_list)"
   ]
  },
  {
   "cell_type": "code",
   "execution_count": 55,
   "metadata": {},
   "outputs": [
    {
     "name": "stdout",
     "output_type": "stream",
     "text": [
      "College/School to Research Center - other file: 0\n"
     ]
    }
   ],
   "source": [
    "#4 - Change authors with coll or School affiliation to Research center affiliation\n",
    "#from the other file\n",
    "replaced_collSch_to_ctr4 = 0\n",
    "for x in range(len(dataFrame1)):\n",
    "    if re.search(r'coll|\\bGeneral Studies College\\b|School|\\bsch engn\\b', affiliations_list1[x]):\n",
    "        #print(\"issue\", affiliations_list[x])\n",
    "        for y in range(len(dataFrame2)):\n",
    "            if x!=y:\n",
    "                if authors_list1[x] == authors_list2[y]:\n",
    "                    if affiliations_list2[y] and affiliations_list1[x]!=affiliations_list2[y]:\n",
    "                        if re.search('Center', affiliations_list2[y]):\n",
    "                            affiliations_list1[x] = affiliations_list2[y]\n",
    "                            replaced_collSch_to_ctr4 = replaced_collSch_to_ctr4+1\n",
    "                            break\n",
    "                        \n",
    "print(\"College/School to Research Center - other file:\", replaced_collSch_to_ctr4)\n",
    "#print(affiliations_list)"
   ]
  },
  {
   "cell_type": "code",
   "execution_count": 56,
   "metadata": {},
   "outputs": [
    {
     "name": "stdout",
     "output_type": "stream",
     "text": [
      "ctr to Department - other file: 0\n"
     ]
    }
   ],
   "source": [
    "#4 - Change authors with ctr affiliation to Department affiliation\n",
    "#from the other file\n",
    "replaced_ctr_to_dept4 = 0\n",
    "for x in range(len(dataFrame1)):\n",
    "    if re.search(r'\\bres\\b|\\bctr\\b|\\bctr res excellence\\b|\\bres inst ri\\b|\\bcer res inst\\b|\\bcenters res excellence\\b', affiliations_list1[x]):\n",
    "        for y in range(len(dataFrame2)):\n",
    "            if x!=y:\n",
    "                if authors_list1[x] == authors_list2[y]:\n",
    "                    #print('author found')\n",
    "                    if affiliations_list2[y] and affiliations_list1[x]!=affiliations_list2[y]:\n",
    "                        if re.search('Department', affiliations_list2[y]):\n",
    "                            affiliations_list1[x] = affiliations_list2[y]\n",
    "                            replaced_ctr_to_dept4 = replaced_ctr_to_dept4+1\n",
    "                            break\n",
    "\n",
    "print(\"ctr to Department - other file:\", replaced_ctr_to_dept4)"
   ]
  },
  {
   "cell_type": "code",
   "execution_count": 57,
   "metadata": {},
   "outputs": [],
   "source": [
    "from pandas import DataFrame\n",
    "\n",
    "aff_df = DataFrame(affiliations_list1, columns=['affiliation'])\n",
    "\n",
    "#print(df)\n",
    "table = {\"paper\": [], \"title\": [], \"author\": [], \"affiliation\": [], \"cite\": [], \"year\": []}\n",
    "\n",
    "for x in range(len(dataFrame1)):\n",
    "    table[\"paper\"].append(dataFrame1['paper'][x])\n",
    "    table[\"title\"].append(dataFrame1['title'][x])\n",
    "    table[\"author\"].append(dataFrame1['author'][x])\n",
    "    table[\"affiliation\"].append(aff_df['affiliation'][x])\n",
    "    table[\"cite\"].append(dataFrame1['cite'][x])\n",
    "    table[\"year\"].append(dataFrame1['year'][x])"
   ]
  },
  {
   "cell_type": "code",
   "execution_count": 58,
   "metadata": {},
   "outputs": [],
   "source": [
    "df=pd.DataFrame.from_dict(table,orient='index').transpose()\n",
    "#print(df.shape)\n",
    "#print(df.head)\n",
    "df.to_csv('authors_normalized_affiliations_by_disambiguated_authors_4stages.csv', index = False)"
   ]
  },
  {
   "cell_type": "code",
   "execution_count": 41,
   "metadata": {},
   "outputs": [],
   "source": [
    "#Luqman, Hamzah -> even if we modified the author names column, we will not get much replacement due to differences in writing names\n",
    "if re.search('Hamzah Luqman', 'Hamzah Abdullah Hamood Luqman'):\n",
    "    print('yes')"
   ]
  },
  {
   "cell_type": "code",
   "execution_count": 103,
   "metadata": {},
   "outputs": [],
   "source": [
    "#check who left with coll, ctr affiliation and remove them\n",
    "checkData = pd.read_csv(r'/Users/nadee/Documents/1Graduate Studies/Term 2/NLP/Project/Code/authors_normalized_affiliations_by_disambiguated_authors_4stages_manual_coll_ctr.csv') "
   ]
  },
  {
   "cell_type": "code",
   "execution_count": 104,
   "metadata": {},
   "outputs": [],
   "source": [
    "dataFrameCheck = pd.DataFrame(checkData, columns=['paper','title', 'author', 'affiliation', 'cite', 'year'])\n",
    "dataFrameCheck.fillna('', inplace=True)"
   ]
  },
  {
   "cell_type": "code",
   "execution_count": 105,
   "metadata": {},
   "outputs": [],
   "source": [
    "for x in range(len(dataFrameCheck)):\n",
    "    if re.search(r'coll|\\bGeneral Studies College\\b|\\bSchool\\b|\\bsch engn\\b', dataFrameCheck['affiliation'][x]):\n",
    "        dataFrameCheck.drop(x, inplace=True)\n",
    "    elif re.search(r'\\bres\\b|\\bctr\\b|\\bctr res excellence\\b|\\bres inst ri\\b|\\bcer res inst\\b|\\bcenters res excellence\\b', dataFrameCheck['affiliation'][x]):\n",
    "        dataFrameCheck.drop(x, inplace=True)\n",
    "        "
   ]
  },
  {
   "cell_type": "code",
   "execution_count": 106,
   "metadata": {},
   "outputs": [],
   "source": [
    "dataFrameCheck = dataFrameCheck.reset_index(drop=True)"
   ]
  },
  {
   "cell_type": "code",
   "execution_count": 99,
   "metadata": {},
   "outputs": [
    {
     "data": {
      "text/plain": [
       "10398"
      ]
     },
     "execution_count": 99,
     "metadata": {},
     "output_type": "execute_result"
    }
   ],
   "source": [
    "len(dataFrameCheck['affiliation'])"
   ]
  },
  {
   "cell_type": "code",
   "execution_count": 89,
   "metadata": {},
   "outputs": [
    {
     "data": {
      "text/plain": [
       "10398"
      ]
     },
     "execution_count": 89,
     "metadata": {},
     "output_type": "execute_result"
    }
   ],
   "source": [
    "affiliation = dataFrameCheck[\"affiliation\"]\n",
    "affiliations_list = affiliation.tolist()\n",
    "len(affiliations_list)"
   ]
  },
  {
   "cell_type": "code",
   "execution_count": 90,
   "metadata": {},
   "outputs": [
    {
     "name": "stdout",
     "output_type": "stream",
     "text": [
      "College/School: 0\n",
      "Research centers: 0\n"
     ]
    }
   ],
   "source": [
    "#Counting authors left with coll, School, rest inst, res ctr, ctr res excellence, res inst ri, cer res inst, \n",
    "#OR centers res excellence affiliations\n",
    "collSchoolCount = ctrCount = 0\n",
    "for i in range(len(affiliations_list)):\n",
    "    if(re.search(r'coll|\\bGeneral Studies College\\b|\\bSchool\\b|\\bsch engn\\b', affiliations_list[i])):\n",
    "        collSchoolCount = collSchoolCount+1\n",
    "        print('College/School:', affiliations_list[i])\n",
    "    elif(re.search(r'\\bres\\b|\\bctr\\b|\\bctr res excellence\\b|\\bres inst ri\\b|\\bcer res inst\\b|\\bcenters res excellence\\b', affiliations_list[i])):\n",
    "        ctrCount = ctrCount+1\n",
    "        print('Research centers:', affiliations_list[i])\n",
    "print('College/School:', collSchoolCount)\n",
    "print('Research centers:', ctrCount)"
   ]
  },
  {
   "cell_type": "code",
   "execution_count": 107,
   "metadata": {},
   "outputs": [],
   "source": [
    "table = {\"paper\": [], \"title\": [], \"author\": [], \"affiliation\": [], \"cite\": [], \"year\": []}\n",
    "\n",
    "for x in range(len(dataFrameCheck)):\n",
    "    table[\"paper\"].append(dataFrameCheck['paper'][x])\n",
    "    table[\"title\"].append(dataFrameCheck['title'][x])\n",
    "    table[\"author\"].append(dataFrameCheck['author'][x])\n",
    "    table[\"affiliation\"].append(dataFrameCheck['affiliation'][x])\n",
    "    table[\"cite\"].append(dataFrameCheck['cite'][x])\n",
    "    table[\"year\"].append(dataFrameCheck['year'][x])"
   ]
  },
  {
   "cell_type": "code",
   "execution_count": 108,
   "metadata": {},
   "outputs": [],
   "source": [
    "df=pd.DataFrame.from_dict(table,orient='index').transpose()\n",
    "df.to_csv('authors_normalized_affiliations_by_disambiguated_authors_4stages_manual_coll_ctr_removed_left.csv', index = False)"
   ]
  },
  {
   "cell_type": "code",
   "execution_count": null,
   "metadata": {},
   "outputs": [],
   "source": []
  }
 ],
 "metadata": {
  "kernelspec": {
   "display_name": "Python 3",
   "language": "python",
   "name": "python3"
  },
  "language_info": {
   "codemirror_mode": {
    "name": "ipython",
    "version": 3
   },
   "file_extension": ".py",
   "mimetype": "text/x-python",
   "name": "python",
   "nbconvert_exporter": "python",
   "pygments_lexer": "ipython3",
   "version": "3.8.3"
  }
 },
 "nbformat": 4,
 "nbformat_minor": 4
}
