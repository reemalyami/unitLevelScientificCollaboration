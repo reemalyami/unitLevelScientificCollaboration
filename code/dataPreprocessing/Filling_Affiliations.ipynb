{
 "cells": [
  {
   "cell_type": "code",
   "execution_count": 2,
   "metadata": {},
   "outputs": [],
   "source": [
    "import pandas as pd\n",
    "import re"
   ]
  },
  {
   "cell_type": "code",
   "execution_count": 3,
   "metadata": {},
   "outputs": [],
   "source": [
    "data = pd.read_csv(r'/Users/nadee/Documents/1Graduate Studies/Term 2/NLP/Project/Code/authors_normalized_affiliations_by_disambiguated_authors_4stages_manual_coll_ctr_removed_left.csv') "
   ]
  },
  {
   "cell_type": "code",
   "execution_count": 12,
   "metadata": {},
   "outputs": [
    {
     "name": "stdout",
     "output_type": "stream",
     "text": [
      "10398\n"
     ]
    }
   ],
   "source": [
    "dataFrame = pd.DataFrame(data, columns=['paper','title', 'author', 'affiliation', 'cite', 'year'])\n",
    "#replace nan \"missing affiliations\" to empty string ''\n",
    "dataFrame.fillna('', inplace=True)\n",
    "affiliations = dataFrame[\"affiliation\"]\n",
    "authors = dataFrame[\"author\"]\n",
    "\n",
    "affiliations_list = affiliations.tolist()\n",
    "authors_list = authors.tolist()\n",
    "\n",
    "print(len(affiliations_list))"
   ]
  },
  {
   "cell_type": "code",
   "execution_count": 13,
   "metadata": {},
   "outputs": [
    {
     "name": "stdout",
     "output_type": "stream",
     "text": [
      "Filled with Department - Same file 452\n"
     ]
    }
   ],
   "source": [
    "#Filling missing affiliations with department from the same dataset\n",
    "filled_Dept = 0\n",
    "for x in range(len(dataFrame)):\n",
    "    missing_aff = []\n",
    "    if not affiliations_list[x]:\n",
    "        #print(\"issue\", affiliations_list[x])\n",
    "        for y in range(len(dataFrame)):\n",
    "            if x!=y:\n",
    "                if authors_list[x] == authors_list[y]:\n",
    "                    if re.search('Department', affiliations_list[y]) and not re.search(';', affiliations_list[y]):\n",
    "                        if affiliations_list[y] not in missing_aff:\n",
    "                            missing_aff.append(affiliations_list[y])\n",
    "        for z in range(len(missing_aff)):\n",
    "            if missing_aff[z] not in affiliations_list[x]:\n",
    "                if z==0:\n",
    "                    affiliations_list[x] = missing_aff[z]\n",
    "                    filled_Dept = filled_Dept+1\n",
    "                else:\n",
    "                    affiliations_list[x] = affiliations_list[x] + \" ; \"+ missing_aff[z]\n",
    "                    \n",
    "print(\"Filled with Department - Same file\", filled_Dept)"
   ]
  },
  {
   "cell_type": "code",
   "execution_count": 14,
   "metadata": {},
   "outputs": [
    {
     "name": "stdout",
     "output_type": "stream",
     "text": [
      "Filled with Research Center - Same file 40\n"
     ]
    }
   ],
   "source": [
    "#Filling missing affiliations with research center from the same dataset\n",
    "filled_Ctr = 0\n",
    "for x in range(len(dataFrame)):\n",
    "    missing_aff = []\n",
    "    if not affiliations_list[x]:\n",
    "        #print(\"issue\", affiliations_list[x])\n",
    "        for y in range(len(dataFrame)):\n",
    "            if x!=y:\n",
    "                if authors_list[x] == authors_list[y]:\n",
    "                    if re.search('Center', affiliations_list[y]) and not re.search(';', affiliations_list[y]):\n",
    "                        if affiliations_list[y] not in missing_aff:\n",
    "                            missing_aff.append(affiliations_list[y])\n",
    "        for z in range(len(missing_aff)):\n",
    "            if missing_aff[z] not in affiliations_list[x]:\n",
    "                if z==0:\n",
    "                    affiliations_list[x] = missing_aff[z]\n",
    "                    filled_Ctr = filled_Ctr+1\n",
    "                else:\n",
    "                    affiliations_list[x] = affiliations_list[x] + \" ; \"+ missing_aff[z]\n",
    "                    \n",
    "print(\"Filled with Research Center - Same file\", filled_Ctr)"
   ]
  },
  {
   "cell_type": "code",
   "execution_count": 15,
   "metadata": {},
   "outputs": [],
   "source": [
    "from pandas import DataFrame\n",
    "\n",
    "df = DataFrame(affiliations_list,columns=['affiliation'])\n",
    "#print(df)\n",
    "table = {\"paper\": [], \"title\": [], \"author\": [], \"affiliation\": [], \"cite\": [], \"year\": []}\n",
    "\n",
    "for x in range(len(dataFrame)):\n",
    "    table[\"paper\"].append(dataFrame['paper'][x])\n",
    "    table[\"title\"].append(dataFrame['title'][x])\n",
    "    table[\"author\"].append(dataFrame['author'][x])\n",
    "    table[\"affiliation\"].append(df['affiliation'][x])\n",
    "    table[\"cite\"].append(dataFrame['cite'][x])\n",
    "    table[\"year\"].append(dataFrame['year'][x])"
   ]
  },
  {
   "cell_type": "code",
   "execution_count": 16,
   "metadata": {},
   "outputs": [],
   "source": [
    "df=pd.DataFrame.from_dict(table,orient='index').transpose()\n",
    "#print(df.shape)\n",
    "#print(df.head)\n",
    "df.to_csv('authors_affiliations_filled.csv', index = False)"
   ]
  },
  {
   "cell_type": "code",
   "execution_count": 24,
   "metadata": {},
   "outputs": [],
   "source": [
    "doubleData = pd.read_csv(r'/Users/nadee/Documents/1Graduate Studies/Term 2/NLP/Project/Code/authors_affiliations_filled.csv')\n",
    "dataFrame = pd.DataFrame(doubleData, columns=['paper','title', 'author', 'affiliation', 'cite', 'year'])\n",
    "\n",
    "dataFrame.fillna('', inplace=True)\n",
    "affiliations = dataFrame[\"affiliation\"]\n",
    "authors = dataFrame[\"author\"]\n",
    "\n",
    "affiliations_list = affiliations.tolist()\n",
    "authors_list = authors.tolist()"
   ]
  },
  {
   "cell_type": "code",
   "execution_count": 25,
   "metadata": {},
   "outputs": [
    {
     "name": "stdout",
     "output_type": "stream",
     "text": [
      "79\n"
     ]
    }
   ],
   "source": [
    "#Replace the multiple department affiliations with the most frequent department affiliation\n",
    "import statistics \n",
    "from statistics import mode \n",
    "  \n",
    "def most_common(List): \n",
    "    return(mode(List)) \n",
    "replaced_double = 0\n",
    "for x in range(len(dataFrame)):\n",
    "    double_dept = []\n",
    "    if re.search(';', affiliations_list[x]) and re.search('Department', affiliations_list[x]):\n",
    "        for y in range(len(dataFrame)):\n",
    "            if affiliations_list[y] and authors_list[x]==authors_list[y] and affiliations_list[x]!=affiliations_list[y] and re.search('Department', affiliations_list[y]):\n",
    "                double_dept.append(affiliations_list[y])\n",
    "\n",
    "        affiliations_list[x] = most_common(double_dept)\n",
    "        replaced_double = replaced_double+1\n",
    "\n",
    "print(replaced_double)"
   ]
  },
  {
   "cell_type": "code",
   "execution_count": 26,
   "metadata": {},
   "outputs": [
    {
     "name": "stdout",
     "output_type": "stream",
     "text": [
      "8\n"
     ]
    }
   ],
   "source": [
    "#Replace the multiple research center affiliations with the most frequent research center affiliation\n",
    "replaced_double_ctr = 0\n",
    "for x in range(len(dataFrame)):\n",
    "    double_ctr = []\n",
    "    if re.search(';', affiliations_list[x]) and re.search('Center', affiliations_list[x]):\n",
    "        for y in range(len(dataFrame)):\n",
    "            if affiliations_list[y] and authors_list[x]==authors_list[y] and affiliations_list[x]!=affiliations_list[y] and re.search('Center', affiliations_list[y]):\n",
    "                double_ctr.append(affiliations_list[y])\n",
    "\n",
    "        affiliations_list[x] = most_common(double_ctr)\n",
    "        replaced_double_ctr = replaced_double_ctr+1\n",
    "\n",
    "print(replaced_double_ctr)"
   ]
  },
  {
   "cell_type": "code",
   "execution_count": 27,
   "metadata": {},
   "outputs": [],
   "source": [
    "df = DataFrame(affiliations_list,columns=['affiliation'])\n",
    "#print(df)\n",
    "table = {\"paper\": [], \"title\": [], \"author\": [], \"affiliation\": [], \"cite\": [], \"year\": []}\n",
    "\n",
    "for x in range(len(dataFrame)):\n",
    "    table[\"paper\"].append(dataFrame['paper'][x])\n",
    "    table[\"title\"].append(dataFrame['title'][x])\n",
    "    table[\"author\"].append(dataFrame['author'][x])\n",
    "    table[\"affiliation\"].append(df['affiliation'][x])\n",
    "    table[\"cite\"].append(dataFrame['cite'][x])\n",
    "    table[\"year\"].append(dataFrame['year'][x])"
   ]
  },
  {
   "cell_type": "code",
   "execution_count": 28,
   "metadata": {},
   "outputs": [],
   "source": [
    "df=pd.DataFrame.from_dict(table,orient='index').transpose()\n",
    "df.to_csv('authors_affiliations_filled_removed_double.csv', index = False)"
   ]
  },
  {
   "cell_type": "code",
   "execution_count": 29,
   "metadata": {},
   "outputs": [],
   "source": [
    "#Fill using craped data \n",
    "allData = pd.read_csv(r'/Users/nadee/Documents/1Graduate Studies/Term 2/NLP/Project/Code/authors_affiliations_filled_removed_double.csv') \n",
    "authorsData = pd.read_csv(r'/Users/nadee/Documents/1Graduate Studies/Term 2/NLP/Project/Code/KFUPM_Faculty_Disambiguation.csv') "
   ]
  },
  {
   "cell_type": "code",
   "execution_count": 30,
   "metadata": {},
   "outputs": [],
   "source": [
    "dataFrame1 = pd.DataFrame(allData, columns=['paper','title', 'author', 'affiliation', 'cite', 'year'])\n",
    "dataFrame2 = pd.DataFrame(authorsData, columns=['author', 'affiliation'])\n",
    "dataFrame1.fillna('', inplace=True)"
   ]
  },
  {
   "cell_type": "code",
   "execution_count": 31,
   "metadata": {},
   "outputs": [],
   "source": [
    "authors1 = dataFrame1[\"author\"]\n",
    "authors2 = dataFrame2[\"author\"]\n",
    "\n",
    "affiliation1 = dataFrame1[\"affiliation\"]\n",
    "affiliation2 = dataFrame2[\"affiliation\"]\n",
    "\n",
    "authors_list1 = authors1.tolist()\n",
    "authors_list2 = authors2.tolist()\n",
    "\n",
    "affiliations_list1 = affiliation1.tolist()\n",
    "affiliations_list2 = affiliation2.tolist()\n",
    "\n",
    "for x in range(len(affiliations_list2)):\n",
    "    affiliations_list2[x] = affiliations_list2[x].strip()"
   ]
  },
  {
   "cell_type": "code",
   "execution_count": 32,
   "metadata": {},
   "outputs": [
    {
     "name": "stdout",
     "output_type": "stream",
     "text": [
      "20\n"
     ]
    }
   ],
   "source": [
    "filled_Dept_File = 0\n",
    "for x in range(len(dataFrame1)):\n",
    "    if not affiliations_list1[x]:\n",
    "        for y in range(len(dataFrame2)):\n",
    "            if x!=y:\n",
    "                if re.search(authors_list1[x], authors_list2[y]):\n",
    "                    if re.search('Department', affiliations_list2[y]):\n",
    "                        affiliations_list1[x] = affiliations_list2[y]\n",
    "                        filled_Dept_File = filled_Dept_File+1\n",
    "            \n",
    "\n",
    "print(filled_Dept_File)"
   ]
  },
  {
   "cell_type": "code",
   "execution_count": 33,
   "metadata": {},
   "outputs": [
    {
     "name": "stdout",
     "output_type": "stream",
     "text": [
      "0\n"
     ]
    }
   ],
   "source": [
    "filled_Ctr_File = 0\n",
    "for x in range(len(dataFrame1)):\n",
    "    if not affiliations_list1[x]:\n",
    "        for y in range(len(dataFrame2)):\n",
    "            if x!=y:\n",
    "                if re.search(authors_list1[x], authors_list2[y]):\n",
    "                    if re.search('Center', affiliations_list2[y]):\n",
    "                        affiliations_list1[x] = affiliations_list2[y]\n",
    "                        filled_Ctr_File = filled_Ctr_File+1\n",
    "                        \n",
    "                        \n",
    "print(filled_Ctr_File)"
   ]
  },
  {
   "cell_type": "code",
   "execution_count": 34,
   "metadata": {},
   "outputs": [],
   "source": [
    "from pandas import DataFrame\n",
    "\n",
    "aff_df = DataFrame(affiliations_list1, columns=['affiliation'])\n",
    "\n",
    "#print(df)\n",
    "table = {\"paper\": [], \"title\": [], \"author\": [], \"affiliation\": [], \"cite\": [], \"year\": []}\n",
    "\n",
    "for x in range(len(dataFrame1)):\n",
    "    table[\"paper\"].append(dataFrame1['paper'][x])\n",
    "    table[\"title\"].append(dataFrame1['title'][x])\n",
    "    table[\"author\"].append(dataFrame1['author'][x])\n",
    "    table[\"affiliation\"].append(aff_df['affiliation'][x])\n",
    "    table[\"cite\"].append(dataFrame1['cite'][x])\n",
    "    table[\"year\"].append(dataFrame1['year'][x])"
   ]
  },
  {
   "cell_type": "code",
   "execution_count": 35,
   "metadata": {},
   "outputs": [],
   "source": [
    "df=pd.DataFrame.from_dict(table,orient='index').transpose()\n",
    "df.to_csv('authors_normalized_affiliations_filled_by_crawled_data.csv', index = False)"
   ]
  },
  {
   "cell_type": "code",
   "execution_count": 36,
   "metadata": {},
   "outputs": [],
   "source": [
    "#after manual filling, delete not found dept or ctr affiliation \n",
    "allData = pd.read_csv(r'/Users/nadee/Documents/1Graduate Studies/Term 2/NLP/Project/Code/authors_normalized_affiliations_filled_by_crawled_data_filled_manually.csv') \n"
   ]
  },
  {
   "cell_type": "code",
   "execution_count": 43,
   "metadata": {},
   "outputs": [],
   "source": [
    "df = pd.DataFrame(allData, columns=['paper','title', 'author', 'affiliation', 'cite', 'year'])\n",
    "df.fillna('', inplace=True)"
   ]
  },
  {
   "cell_type": "code",
   "execution_count": 46,
   "metadata": {},
   "outputs": [
    {
     "data": {
      "text/plain": [
       "10311"
      ]
     },
     "execution_count": 46,
     "metadata": {},
     "output_type": "execute_result"
    }
   ],
   "source": [
    "len(df)"
   ]
  },
  {
   "cell_type": "code",
   "execution_count": 45,
   "metadata": {},
   "outputs": [],
   "source": [
    "#Drop empty affiliations\n",
    "for x in range(len(df)):\n",
    "    if not df['affiliation'][x]:\n",
    "        df.drop(x, inplace=True)"
   ]
  },
  {
   "cell_type": "code",
   "execution_count": 47,
   "metadata": {},
   "outputs": [],
   "source": [
    "df = df.reset_index(drop=True)"
   ]
  },
  {
   "cell_type": "code",
   "execution_count": 48,
   "metadata": {},
   "outputs": [],
   "source": [
    "table = {\"paper\": [], \"title\": [], \"author\": [], \"affiliation\": [], \"cite\": [], \"year\": []}\n",
    "\n",
    "for x in range(len(df)):\n",
    "    table[\"paper\"].append(df['paper'][x])\n",
    "    table[\"title\"].append(df['title'][x])\n",
    "    table[\"author\"].append(df['author'][x])\n",
    "    table[\"affiliation\"].append(df['affiliation'][x])\n",
    "    table[\"cite\"].append(df['cite'][x])\n",
    "    table[\"year\"].append(df['year'][x])"
   ]
  },
  {
   "cell_type": "code",
   "execution_count": 49,
   "metadata": {},
   "outputs": [],
   "source": [
    "#Final dataset used in visualization\n",
    "df=pd.DataFrame.from_dict(table,orient='index').transpose()\n",
    "df.to_csv('AUTHORS_AFFILIATIONS_COMPLETE_2018_2020.csv', index = False)"
   ]
  },
  {
   "cell_type": "code",
   "execution_count": 50,
   "metadata": {},
   "outputs": [
    {
     "data": {
      "text/plain": [
       "50"
      ]
     },
     "execution_count": 50,
     "metadata": {},
     "output_type": "execute_result"
    }
   ],
   "source": [
    "len(df['affiliation'].unique())"
   ]
  },
  {
   "cell_type": "code",
   "execution_count": null,
   "metadata": {},
   "outputs": [],
   "source": []
  }
 ],
 "metadata": {
  "kernelspec": {
   "display_name": "Python 3",
   "language": "python",
   "name": "python3"
  },
  "language_info": {
   "codemirror_mode": {
    "name": "ipython",
    "version": 3
   },
   "file_extension": ".py",
   "mimetype": "text/x-python",
   "name": "python",
   "nbconvert_exporter": "python",
   "pygments_lexer": "ipython3",
   "version": "3.8.3"
  }
 },
 "nbformat": 4,
 "nbformat_minor": 4
}
